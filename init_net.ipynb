{
 "cells": [
  {
   "cell_type": "code",
   "execution_count": 15,
   "metadata": {},
   "outputs": [
    {
     "name": "stdout",
     "output_type": "stream",
     "text": []
    }
   ],
   "source": [
    ";from setup.txt\n",
    "\n",
    "single_path = './'\n",
    "; net_params\n",
    "dt = 0.001  ; in ms\n",
    "inv_dt = long(1000)\n",
    "update = inv_dt\n",
    "\n",
    "N_e  = long(80*10)\n",
    "N_ir = long(15*10)\n",
    "N_if = long(5*10)\n",
    "N_all = N_e + N_ir + N_if\n",
    "\n",
    "\n",
    "t_init=500*inv_dt  &  t_pre=0*inv_dt  &  t_stim=500*inv_dt  &  t_post=100*inv_dt\n",
    "t_all = t_init + t_pre + t_stim + t_post"
   ]
  },
  {
   "cell_type": "code",
   "execution_count": 16,
   "metadata": {},
   "outputs": [
    {
     "name": "stdout",
     "output_type": "stream",
     "text": []
    }
   ],
   "source": [
    ";from c_sims.txt\n",
    "rseed = 'v01'\n",
    ";rseed = 'v03'\n",
    "con_t = 0.\n",
    "con_r = 0.\n",
    "con_p = 0."
   ]
  },
  {
   "cell_type": "code",
   "execution_count": 17,
   "metadata": {},
   "outputs": [
    {
     "name": "stdout",
     "output_type": "stream",
     "text": []
    }
   ],
   "source": [
    "str = 'test'"
   ]
  },
  {
   "cell_type": "code",
   "execution_count": 18,
   "metadata": {},
   "outputs": [
    {
     "name": "stdout",
     "output_type": "stream",
     "text": [
      "           0           0           0           0           0           0\r\n",
      "           0           0           0           0           0           0\r\n",
      "           0           0           0           0           0           0\r\n",
      "           0           0           0           0           0           0\r\n",
      "           0           0           0           0           0           0\r\n",
      "           0           0           0           0           0           0\r\n"
     ]
    }
   ],
   "source": [
    "; Get seed for random number generator\n",
    "if keyword_set(rseed) then begin\n",
    "  if (size(rseed,/type) EQ 7) then begin  seed=rseed\n",
    "    seed = lonarr(36)\n",
    ";    openr, fu, single_path + rseed + '_rand.dat', /get_lun\n",
    ";    readu, fu, seed  &  free_lun, fu\n",
    "  endif  else  seed=long(rseed)\n",
    "endif else  dum=randomu(seed,1)\n",
    "\n",
    "print, seed"
   ]
  },
  {
   "cell_type": "code",
   "execution_count": 31,
   "metadata": {},
   "outputs": [
    {
     "name": "stdout",
     "output_type": "stream",
     "text": []
    }
   ],
   "source": [
    "if not(keyword_set(ampa_scl)) then  ampa_scl=1. $\n",
    "else  print, 'ctx: ampa=', ampa_scl\n",
    "\n",
    "if not(keyword_set(nmda_e)) then  nmda_e=0. $\n",
    "else  print, 'ctx: nmda_e=', nmda_e\n",
    "if not(keyword_set(nmda_rs)) then  nmda_rs=0. $\n",
    "else  print, 'ctx: nmda_rs=', nmda_rs\n",
    "if not(keyword_set(nmda_fs)) then  nmda_fs=0. $\n",
    "else  print, 'ctx: nmda_fs=', nmda_fs\n",
    "nmda_scl = $\n",
    "[fltarr(N_e)+(0.45*(1. - nmda_e)), fltarr(N_ir)+(0.1*(1. - nmda_rs)), fltarr(N_if)+(0.1*(1. - nmda_fs))]\n",
    "\n",
    "gaba=0\n",
    "con_t=0\n",
    "con_p=0\n",
    "con_r=0\n",
    "con_if=0\n",
    "con_ir=0\n",
    "con_i_all=0\n",
    "i_del=0\n",
    "noise_wt=0\n",
    "W_scl=0\n",
    "decay_gaba=5."
   ]
  },
  {
   "cell_type": "code",
   "execution_count": 32,
   "metadata": {},
   "outputs": [
    {
     "name": "stdout",
     "output_type": "stream",
     "text": []
    }
   ],
   "source": [
    "W = fltarr(N_all,N_all)\n",
    "W_noise = fltarr(N_all)"
   ]
  },
  {
   "cell_type": "code",
   "execution_count": 33,
   "metadata": {},
   "outputs": [
    {
     "name": "stdout",
     "output_type": "stream",
     "text": [
      "    0.0160000\r\n"
     ]
    }
   ],
   "source": [
    "if not(keyword_set(noise_wt)) then  noise_wt=0.016\n",
    "print, noise_wt"
   ]
  },
  {
   "cell_type": "code",
   "execution_count": 34,
   "metadata": {},
   "outputs": [
    {
     "name": "stdout",
     "output_type": "stream",
     "text": [
      "init_net: gaba =       0.00000\r\n"
     ]
    }
   ],
   "source": [
    "if not(keyword_set(gaba)) then  gaba=0.\n",
    "print, 'init_net: gaba = ', gaba"
   ]
  },
  {
   "cell_type": "code",
   "execution_count": 35,
   "metadata": {},
   "outputs": [
    {
     "name": "stdout",
     "output_type": "stream",
     "text": [
      "e-e done\r\n",
      "e-ir done\r\n",
      "e-if done\r\n",
      "ir-e done\r\n",
      "ir-ir done\r\n",
      "ir-if done\r\n",
      "if-e done\r\n",
      "if-ir done\r\n",
      "if-if done\r\n"
     ]
    }
   ],
   "source": [
    "; Set up W by determining units to which unit i makes connections\n",
    "; E->E\n",
    "i=0 & e_e_con=fix(N_e*.10)\n",
    "while (i LE N_e-1) do begin\n",
    "ix = fix(randomu(seed,e_e_con) * N_e)\n",
    "if (n_elements(uniq(ix,sort(ix))) EQ e_e_con) then begin\n",
    "  W[ix,i] = fltarr(e_e_con) + 1.\n",
    "  i+=1\n",
    "endif\n",
    "endwhile\n",
    "print, 'e-e done'\n",
    "\n",
    "; E->Ir\n",
    "i=0 & e_ir_con=N_ir*.40\n",
    "while (i LE N_e-1) do begin\n",
    "a=randomu(seed,N_ir)  &  ix=uniq(a,sort(a))\n",
    "if (n_elements(ix) EQ N_ir) then begin\n",
    "  W[N_e+ix[0:e_ir_con-1],i] = fltarr(e_ir_con) + 1.\n",
    "  i+=1\n",
    "endif\n",
    "endwhile\n",
    "print, 'e-ir done'\n",
    "\n",
    "; E->If\n",
    "i=0 & e_if_con=N_if*.40\n",
    "while (i LE N_e-1) do begin\n",
    "ix = fix(randomu(seed,e_if_con) * N_if)\n",
    "if (n_elements(uniq(ix,sort(ix))) EQ e_if_con) then begin\n",
    "  W[ix+N_e+N_ir,i] = fltarr(e_if_con) + 1.\n",
    "  i+=1\n",
    "endif\n",
    "endwhile\n",
    "print, 'e-if done'\n",
    "\n",
    "; Ir->E\n",
    "i=N_e & ir_e_con=N_e*.50\n",
    "while (i LE N_e+N_ir-1) do begin\n",
    "a=randomu(seed,N_e)  &  ix=uniq(a,sort(a))\n",
    "if (n_elements(ix) EQ N_e) then begin\n",
    "  W[ix[0:ir_e_con-1],i] = fltarr(ir_e_con) - 1.\n",
    "  i+=1\n",
    "endif\n",
    "endwhile\n",
    "print, 'ir-e done'\n",
    "\n",
    "; Ir->Ir\n",
    "i=N_e & ir_ir_con=N_ir*.15\n",
    "while (i LE N_e+N_ir-1) do begin\n",
    "a=randomu(seed,N_ir)  &  ix=uniq(a,sort(a))\n",
    "if (n_elements(ix) EQ N_ir) then begin\n",
    "  W[N_e+ix[0:ir_ir_con-1],i] = fltarr(ir_ir_con) - 1.\n",
    "  i+=1\n",
    "endif\n",
    "endwhile\n",
    "print, 'ir-ir done'\n",
    "\n",
    "; Ir->If\n",
    "i=N_e & ir_if_con=N_if*.50\n",
    "while (i LE N_e+N_ir-1) do begin\n",
    "a = fix(randomu(seed,N_if) * 20000)\n",
    "ix = uniq(a,sort(a))\n",
    "\n",
    "if (n_elements(ix) EQ N_if) then begin\n",
    "  W[ix[0:ir_if_con-1]+N_e+N_ir,i] = fltarr(ir_if_con) - 1.\n",
    "  i+=1\n",
    "endif\n",
    "endwhile\n",
    "print, 'ir-if done'\n",
    "\n",
    "; If->E\n",
    "i=N_e+N_ir & if_e_con=N_e*.50\n",
    "while (i LE N_all-1) do begin\n",
    "a=randomu(seed,N_e)  &  ix=uniq(a,sort(a))\n",
    "if (n_elements(ix) EQ N_e) then begin\n",
    "  W[ix[0:if_e_con-1],i] = fltarr(if_e_con) - 1.\n",
    "  i+=1\n",
    "endif\n",
    "endwhile\n",
    "print, 'if-e done'\n",
    "\n",
    "; If->Ir\n",
    "i=N_e+N_ir & if_ir_con=N_ir*.35\n",
    "while (i LE N_all-1) do begin\n",
    "a=randomu(seed,N_ir)  &  ix=uniq(a,sort(a))\n",
    "if (n_elements(ix) EQ N_ir) then begin\n",
    "  W[N_e+ix[0:if_ir_con-1],i] = fltarr(if_ir_con) - 1.\n",
    "  i+=1\n",
    "endif\n",
    "endwhile\n",
    "print, 'if-ir done'\n",
    "\n",
    "; If->If\n",
    "i=N_e+N_ir & if_if_con=N_if*.60\n",
    "while (i LE N_all-1) do begin\n",
    "a=randomu(seed,N_if)  &  ix=uniq(a,sort(a))\n",
    "if (n_elements(ix) EQ N_if) then begin\n",
    "  W[N_e+N_ir+ix[0:if_if_con-1],i] = fltarr(if_if_con) - 1.\n",
    "  i+=1\n",
    "endif\n",
    "endwhile\n",
    "print, 'if-if done'\n",
    "\n",
    "W[0:N_e-1, 0:N_e-1] *= 0.01         ; E->E\n",
    "W[N_e:N_e+N_ir-1, 0:N_e-1] *= 0.008  ; E->Ir\n",
    "W[N_e+N_ir:*, 0:N_e-1] *= 0.019      ; E->If\n",
    "\n",
    "W[0:N_e-1, N_e:N_e+N_ir-1] *= 0.008         ; Ir->E\n",
    "W[N_e:N_e+N_ir-1, N_e:N_e+N_ir-1] *= 0.008  ; Ir->Ir\n",
    "W[N_e+N_ir:*, N_e:N_e+N_ir-1] *= 0.008      ; Ir->If\n",
    "\n",
    "W[0:N_e-1, N_e+N_ir:*] *= 0.019*(1. - gaba)        ; If->E\n",
    "W[N_e:N_e+N_ir-1, N_e+N_ir:*] *= 0.01*(1. - gaba)  ; If->Ir\n",
    "W[N_e+N_ir:*, N_e+N_ir:*] *= 0.01*(1. - gaba)      ; If->If\n",
    "\n",
    "if keyword_set(W_scl) then begin\n",
    "W *= W_scl\n",
    "print, 'global weight scaling = ', W_scl\n",
    "endif else $\n",
    "W *= 0.0825  ; global weight scaling\n",
    "\n",
    "W_noise = fltarr(N_all) + noise_wt   ; external noise input weights"
   ]
  },
  {
   "cell_type": "code",
   "execution_count": 36,
   "metadata": {},
   "outputs": [
    {
     "name": "stdout",
     "output_type": "stream",
     "text": [
      "Initial # weights:       219150.\r\n",
      "        # excitatory weights:       128000.\r\n",
      "        # inhibitory weights:       91150.0\r\n",
      "        # E->E weights:       64000.0\r\n"
     ]
    }
   ],
   "source": [
    "print, 'Initial # weights: ', total(W NE 0.)\n",
    "print, '        # excitatory weights: ', total(W GT 0.)\n",
    "print, '        # inhibitory weights: ', total(W LT 0.)\n",
    "print, '        # E->E weights: ', total(W[0:N_e-1,0:N_e-1] GT 0.)"
   ]
  },
  {
   "cell_type": "raw",
   "metadata": {},
   "source": [
    "print, '       con_t = ', con_t\n",
    "weight_ix = where(W[*] NE 0., n_weights)\n",
    "W2 = W[weight_ix]   ; nonzero connections\n",
    "del_n = con_t*n_weights\n",
    "\n",
    "ok=0\n",
    "while (not(ok)) do begin\n",
    "    a=randomu(seed2,n_weights,/long)  &  ix=uniq(a,sort(a))\n",
    "    if (n_elements(ix) EQ n_weights) then  ok=1\n",
    "endwhile\n",
    "delete_ix = ix[0:del_n-1]\n",
    "W2[delete_ix] = 0.\n",
    "W[weight_ix] = W2\n",
    "\n",
    "n_weights_rem = total(W NE 0.)\n",
    "print, '       # remaining weights = ', n_weights_rem,'  ', float(n_weights_rem)/n_weights"
   ]
  },
  {
   "cell_type": "raw",
   "metadata": {},
   "source": [
    "print, '       con_p = ', con_p\n",
    "W_p = W[0:N_e-1,*]\n",
    "weight_ix = where(W_p[*] NE 0., n_weights)\n",
    "W2 = W_p[weight_ix]\n",
    "del_n = con_p*n_weights\n",
    "\n",
    "ok=0\n",
    "while (not(ok)) do begin\n",
    "    a=randomu(seed2,n_weights,/long)  &  ix=uniq(a,sort(a))\n",
    "    if (n_elements(ix) EQ n_weights) then  ok=1\n",
    "endwhile\n",
    "delete_ix = ix[0:del_n-1]\n",
    "W2[delete_ix] = 0.\n",
    "W_p[weight_ix] = W2\n",
    "W[0:N_e-1,*] = W_p\n",
    "\n",
    "n_weights_rem = total(W NE 0.)\n",
    "print, '       # remaining weights = ', n_weights_rem,'  ', float(n_weights_rem)/n_weights"
   ]
  },
  {
   "cell_type": "code",
   "execution_count": 37,
   "metadata": {},
   "outputs": [
    {
     "name": "stdout",
     "output_type": "stream",
     "text": []
    }
   ],
   "source": [
    "openw, fu, single_path + str + '_param.txt', /get_lun\n",
    "printf, fu, N_all, N_e, N_ir, N_if, dt, inv_dt, update, t_init, t_pre, t_stim, t_post, t_all\n",
    "free_lun, fu\n",
    "openw, fu, single_path + str + '_weights.dat', /get_lun\n",
    "writeu, fu, W, W_noise\n",
    "free_lun, fu"
   ]
  },
  {
   "cell_type": "code",
   "execution_count": 38,
   "metadata": {},
   "outputs": [
    {
     "name": "stdout",
     "output_type": "stream",
     "text": []
    }
   ],
   "source": [
    ";noise_gen.pro\n",
    "freq = 100.  ; in Hz\n",
    "noise = intarr(N_all,t_all/inv_dt)\n",
    "\n",
    "for i=0,N_all-1 do begin\n",
    "  a = randomu(seed, t_all/inv_dt, gamma=1.)/freq\n",
    "  spike_times = total(long(1000.*a),/cumulative)\n",
    "  ix = where(spike_times LT t_all/inv_dt, count)\n",
    "  noise[i,spike_times[ix]] = 1\n",
    "endfor\n",
    "\n",
    "openw, fu, single_path + str + '_noise.dat', /get_lun\n",
    "writeu, fu, noise  &  free_lun, fu"
   ]
  },
  {
   "cell_type": "code",
   "execution_count": 39,
   "metadata": {},
   "outputs": [
    {
     "name": "stdout",
     "output_type": "stream",
     "text": []
    }
   ],
   "source": [
    "spikes = fltarr(N_all,inv_dt)\n",
    "current_spike = inv_dt-1\n",
    "v = dblarr(N_all)\n",
    "temp = intarr(N_all)\n",
    "noise = fltarr(N_all,update)\n",
    "\n",
    "g_r_ampa=fltarr(N_all)  &  g_r_nmda=fltarr(N_all)  &  g_r_gaba=fltarr(N_all)\n",
    "g_d_ampa=fltarr(N_all)  &  g_d_nmda=fltarr(N_all)  &  g_d_gaba=fltarr(N_all)\n",
    "g_ampa=0.               &  g_nmda=0.               &  g_gaba=0.\n",
    "inv_tau_r_ampa=-dt/.5   &  inv_tau_r_nmda=-dt/2.   &  inv_tau_r_gaba=-dt/.5\n",
    ";inv_tau_d_ampa=-dt/2.   &  inv_tau_d_nmda=-dt/100. &  inv_tau_d_gaba=-dt/5.\n",
    "inv_tau_d_ampa=-dt/2.   &  inv_tau_d_nmda=-dt/100. &  inv_tau_d_gaba=-dt/decay_gaba\n",
    "norm_ampa=.472689       &  norm_nmda=.904821       &  norm_gaba=.697016\n",
    "\n",
    "inv_tau_mem=-1./[fltarr(N_e)+20.,fltarr(N_ir)+20.,fltarr(N_if)+10.]  ; used in non-Izh version\n",
    ";thresh = [fltarr(N_e)-52.,fltarr(N_ir)-55.,fltarr(N_if)-52.]   ; non-Izh\n",
    "thresh = [fltarr(N_e)-52.,fltarr(N_ir)-52.,fltarr(N_if)-52.]   ; non-Izh\n",
    ";thresh = [fltarr(N_e)+30.,fltarr(N_ir)+30.,fltarr(N_if)+30.]   ; Izh\n"
   ]
  },
  {
   "cell_type": "code",
   "execution_count": 40,
   "metadata": {},
   "outputs": [
    {
     "name": "stdout",
     "output_type": "stream",
     "text": []
    }
   ],
   "source": [
    "openw, spike_fu, single_path + str + '_spk.dat', /get_lun\n",
    "openw, Vm_fu, single_path + str + '_Vm.dat', /get_lun\n",
    "openr, noise_fu, single_path + str + '_noise.dat', /get_lun\n",
    "\n",
    ";spikes[*,*]=0  &  v[*]=double(-65.)  &  g_ampa[*]=0.  &  g_nmda[*]=0.  &  g_gaba[*]=0.  ; Izh\n",
    "spikes[*,*]=0  &  v[*]=double(-70.)  &  g_ampa[*]=0.  &  g_nmda[*]=0.  &  g_gaba[*]=0.  ; non-Izh\n"
   ]
  },
  {
   "cell_type": "code",
   "execution_count": 41,
   "metadata": {},
   "outputs": [
    {
     "name": "stdout",
     "output_type": "stream",
     "text": []
    }
   ],
   "source": [
    "\n",
    "for t=long(0),t_all-1 do begin\n",
    "  fired = where(v GE thresh, count)\n",
    "  if (count GT 0) then begin\n",
    "    v[fired] = double(-59.)   ; non-Izh\n",
    "    ;v[fired] = c[fired]  ; Izh\n",
    "    ;u[fired] += d[fired]  ; Izh\n",
    "    spikes[fired,current_spike] = 1.\n",
    "  endif\n",
    "\n",
    "  if ((t mod update) EQ 0) then begin\n",
    "    readu, noise_fu, temp\n",
    "    noise[*,0] = temp\n",
    "    writeu, spike_fu, fix(total(spikes[*,*],2) GT 0)\n",
    "    writeu, Vm_fu, v\n",
    "  endif\n",
    "\n",
    "  glu_act = (W > 0.)#spikes[*,0] + W_noise*noise[*,t mod update]\n",
    "\n",
    "  g_r_ampa += inv_tau_r_ampa*g_r_ampa + glu_act\n",
    "  g_d_ampa += inv_tau_d_ampa*g_d_ampa + glu_act\n",
    "  g_ampa = (g_d_ampa - g_r_ampa)/norm_ampa\n",
    "\n",
    "  g_r_nmda += inv_tau_r_nmda*g_r_nmda + glu_act\n",
    "  g_d_nmda += inv_tau_d_nmda*g_d_nmda + glu_act\n",
    "  g_nmda = (g_d_nmda - g_r_nmda)/norm_nmda\n",
    "\n",
    "  g_r_gaba += inv_tau_r_gaba*g_r_gaba - (W < 0.)#spikes[*,0]\n",
    "  g_d_gaba += inv_tau_d_gaba*g_d_gaba - (W < 0.)#spikes[*,0]\n",
    "  g_gaba = (g_d_gaba - g_r_gaba)/norm_gaba\n",
    "\n",
    "  I_syn = -(ampa_scl*g_ampa*v + nmda_scl*g_nmda*v/(1. + exp(-0.062*v)/3.57) + g_gaba*(v+70.))\n",
    "\n",
    "  v += dt*(inv_tau_mem*(v + 70.) + I_syn)   ; non-Izh\n",
    "  ;v += dt*(0.04 * v^2 + 5.*v + 140. - u + I_syn)\n",
    "  ;u += dt*(a * ((b * v) - u))\n",
    "\n",
    "  spikes=shift(spikes,0,-1)  &  spikes[*,current_spike]=0.\n",
    "end ; t\n"
   ]
  },
  {
   "cell_type": "code",
   "execution_count": 42,
   "metadata": {},
   "outputs": [
    {
     "name": "stdout",
     "output_type": "stream",
     "text": [
      "% Lexer/Parser syntax error: expecting EOF, found 'A_ADFADFW'\r\n",
      "  At: /home/yi/tmp2k3n9eyw, Line 7  Column 1\r\n"
     ]
    }
   ],
   "source": [
    "free_lun, spike_fu, Vm_fu, noise_fu\n",
    "\n",
    "if (total(finite(v)) NE N_all) then  print, 'error: v=NaN'\n",
    "print, 'ctx: ', str, ' done'\n",
    "return\n",
    "end"
   ]
  }
 ],
 "metadata": {
  "kernelspec": {
   "display_name": "GDL",
   "language": "GDL",
   "name": "gdl"
  },
  "language_info": {
   "codemirror_mode": "idl",
   "file_extension": ".pro",
   "mimetype": "text/x-idl",
   "name": "gdl"
  }
 },
 "nbformat": 4,
 "nbformat_minor": 4
}
