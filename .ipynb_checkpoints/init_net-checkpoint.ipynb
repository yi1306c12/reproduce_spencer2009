{
 "cells": [
  {
   "cell_type": "code",
   "execution_count": 1,
   "metadata": {},
   "outputs": [
    {
     "name": "stdout",
     "output_type": "stream",
     "text": []
    }
   ],
   "source": [
    ";from setup.txt\n",
    "\n",
    "single_path = './'\n",
    "; net_params\n",
    "dt = 0.001  ; in ms\n",
    "inv_dt = long(1000)\n",
    "update = inv_dt\n",
    "\n",
    "N_e  = long(80*10)\n",
    "N_ir = long(15*10)\n",
    "N_if = long(5*10)\n",
    "N_all = N_e + N_ir + N_if\n",
    "\n",
    "\n",
    "t_init=500*inv_dt  &  t_pre=0*inv_dt  &  t_stim=500*inv_dt  &  t_post=100*inv_dt\n",
    "t_all = t_init + t_pre + t_stim + t_post"
   ]
  },
  {
   "cell_type": "code",
   "execution_count": 2,
   "metadata": {},
   "outputs": [
    {
     "name": "stdout",
     "output_type": "stream",
     "text": []
    }
   ],
   "source": [
    ";from c_sims.txt\n",
    "rseed = 'v01'\n",
    ";rseed = 'v03'\n",
    "con_t = 0.\n",
    "con_r = 0.\n",
    "con_p = 0."
   ]
  },
  {
   "cell_type": "code",
   "execution_count": null,
   "metadata": {},
   "outputs": [],
   "source": [
    "str = 'test'"
   ]
  },
  {
   "cell_type": "code",
   "execution_count": 4,
   "metadata": {},
   "outputs": [
    {
     "name": "stdout",
     "output_type": "stream",
     "text": [
      "           0           0           0           0           0           0\r\n",
      "           0           0           0           0           0           0\r\n",
      "           0           0           0           0           0           0\r\n",
      "           0           0           0           0           0           0\r\n",
      "           0           0           0           0           0           0\r\n",
      "           0           0           0           0           0           0\r\n"
     ]
    }
   ],
   "source": [
    "; Get seed for random number generator\n",
    "if keyword_set(rseed) then begin\n",
    "  if (size(rseed,/type) EQ 7) then begin  seed=rseed\n",
    "    seed = lonarr(36)\n",
    ";    openr, fu, single_path + rseed + '_rand.dat', /get_lun\n",
    ";    readu, fu, seed  &  free_lun, fu\n",
    "  endif  else  seed=long(rseed)\n",
    "endif else  dum=randomu(seed,1)\n",
    "\n",
    "print, seed"
   ]
  },
  {
   "cell_type": "code",
   "execution_count": 5,
   "metadata": {},
   "outputs": [
    {
     "name": "stdout",
     "output_type": "stream",
     "text": []
    }
   ],
   "source": [
    "gaba=0\n",
    "con_t=0\n",
    "con_p=0\n",
    "con_r=0\n",
    "con_if=0\n",
    "con_ir=0\n",
    "con_i_all=0\n",
    "i_del=0\n",
    "noise_wt=0\n",
    "W_scl=0\n",
    "decay_gaba=5."
   ]
  },
  {
   "cell_type": "code",
   "execution_count": 6,
   "metadata": {},
   "outputs": [
    {
     "name": "stdout",
     "output_type": "stream",
     "text": []
    }
   ],
   "source": [
    "W = fltarr(N_all,N_all)\n",
    "W_noise = fltarr(N_all)"
   ]
  },
  {
   "cell_type": "code",
   "execution_count": 7,
   "metadata": {},
   "outputs": [
    {
     "name": "stdout",
     "output_type": "stream",
     "text": [
      "    0.0160000\r\n"
     ]
    }
   ],
   "source": [
    "if not(keyword_set(noise_wt)) then  noise_wt=0.016\n",
    "print, noise_wt"
   ]
  },
  {
   "cell_type": "code",
   "execution_count": 8,
   "metadata": {},
   "outputs": [
    {
     "name": "stdout",
     "output_type": "stream",
     "text": [
      "init_net: gaba =       0.00000\r\n"
     ]
    }
   ],
   "source": [
    "if not(keyword_set(gaba)) then  gaba=0.\n",
    "print, 'init_net: gaba = ', gaba"
   ]
  },
  {
   "cell_type": "code",
   "execution_count": 9,
   "metadata": {},
   "outputs": [
    {
     "name": "stdout",
     "output_type": "stream",
     "text": [
      "e-e done\r\n",
      "e-ir done\r\n",
      "e-if done\r\n",
      "ir-e done\r\n",
      "ir-ir done\r\n",
      "ir-if done\r\n",
      "if-e done\r\n",
      "if-ir done\r\n",
      "if-if done\r\n"
     ]
    }
   ],
   "source": [
    "; Set up W by determining units to which unit i makes connections\n",
    "; E->E\n",
    "i=0 & e_e_con=fix(N_e*.10)\n",
    "while (i LE N_e-1) do begin\n",
    "ix = fix(randomu(seed,e_e_con) * N_e)\n",
    "if (n_elements(uniq(ix,sort(ix))) EQ e_e_con) then begin\n",
    "  W[ix,i] = fltarr(e_e_con) + 1.\n",
    "  i+=1\n",
    "endif\n",
    "endwhile\n",
    "print, 'e-e done'\n",
    "\n",
    "; E->Ir\n",
    "i=0 & e_ir_con=N_ir*.40\n",
    "while (i LE N_e-1) do begin\n",
    "a=randomu(seed,N_ir)  &  ix=uniq(a,sort(a))\n",
    "if (n_elements(ix) EQ N_ir) then begin\n",
    "  W[N_e+ix[0:e_ir_con-1],i] = fltarr(e_ir_con) + 1.\n",
    "  i+=1\n",
    "endif\n",
    "endwhile\n",
    "print, 'e-ir done'\n",
    "\n",
    "; E->If\n",
    "i=0 & e_if_con=N_if*.40\n",
    "while (i LE N_e-1) do begin\n",
    "ix = fix(randomu(seed,e_if_con) * N_if)\n",
    "if (n_elements(uniq(ix,sort(ix))) EQ e_if_con) then begin\n",
    "  W[ix+N_e+N_ir,i] = fltarr(e_if_con) + 1.\n",
    "  i+=1\n",
    "endif\n",
    "endwhile\n",
    "print, 'e-if done'\n",
    "\n",
    "; Ir->E\n",
    "i=N_e & ir_e_con=N_e*.50\n",
    "while (i LE N_e+N_ir-1) do begin\n",
    "a=randomu(seed,N_e)  &  ix=uniq(a,sort(a))\n",
    "if (n_elements(ix) EQ N_e) then begin\n",
    "  W[ix[0:ir_e_con-1],i] = fltarr(ir_e_con) - 1.\n",
    "  i+=1\n",
    "endif\n",
    "endwhile\n",
    "print, 'ir-e done'\n",
    "\n",
    "; Ir->Ir\n",
    "i=N_e & ir_ir_con=N_ir*.15\n",
    "while (i LE N_e+N_ir-1) do begin\n",
    "a=randomu(seed,N_ir)  &  ix=uniq(a,sort(a))\n",
    "if (n_elements(ix) EQ N_ir) then begin\n",
    "  W[N_e+ix[0:ir_ir_con-1],i] = fltarr(ir_ir_con) - 1.\n",
    "  i+=1\n",
    "endif\n",
    "endwhile\n",
    "print, 'ir-ir done'\n",
    "\n",
    "; Ir->If\n",
    "i=N_e & ir_if_con=N_if*.50\n",
    "while (i LE N_e+N_ir-1) do begin\n",
    "a = fix(randomu(seed,N_if) * 20000)\n",
    "ix = uniq(a,sort(a))\n",
    "\n",
    "if (n_elements(ix) EQ N_if) then begin\n",
    "  W[ix[0:ir_if_con-1]+N_e+N_ir,i] = fltarr(ir_if_con) - 1.\n",
    "  i+=1\n",
    "endif\n",
    "endwhile\n",
    "print, 'ir-if done'\n",
    "\n",
    "; If->E\n",
    "i=N_e+N_ir & if_e_con=N_e*.50\n",
    "while (i LE N_all-1) do begin\n",
    "a=randomu(seed,N_e)  &  ix=uniq(a,sort(a))\n",
    "if (n_elements(ix) EQ N_e) then begin\n",
    "  W[ix[0:if_e_con-1],i] = fltarr(if_e_con) - 1.\n",
    "  i+=1\n",
    "endif\n",
    "endwhile\n",
    "print, 'if-e done'\n",
    "\n",
    "; If->Ir\n",
    "i=N_e+N_ir & if_ir_con=N_ir*.35\n",
    "while (i LE N_all-1) do begin\n",
    "a=randomu(seed,N_ir)  &  ix=uniq(a,sort(a))\n",
    "if (n_elements(ix) EQ N_ir) then begin\n",
    "  W[N_e+ix[0:if_ir_con-1],i] = fltarr(if_ir_con) - 1.\n",
    "  i+=1\n",
    "endif\n",
    "endwhile\n",
    "print, 'if-ir done'\n",
    "\n",
    "; If->If\n",
    "i=N_e+N_ir & if_if_con=N_if*.60\n",
    "while (i LE N_all-1) do begin\n",
    "a=randomu(seed,N_if)  &  ix=uniq(a,sort(a))\n",
    "if (n_elements(ix) EQ N_if) then begin\n",
    "  W[N_e+N_ir+ix[0:if_if_con-1],i] = fltarr(if_if_con) - 1.\n",
    "  i+=1\n",
    "endif\n",
    "endwhile\n",
    "print, 'if-if done'\n",
    "\n",
    "W[0:N_e-1, 0:N_e-1] *= 0.01         ; E->E\n",
    "W[N_e:N_e+N_ir-1, 0:N_e-1] *= 0.008  ; E->Ir\n",
    "W[N_e+N_ir:*, 0:N_e-1] *= 0.019      ; E->If\n",
    "\n",
    "W[0:N_e-1, N_e:N_e+N_ir-1] *= 0.008         ; Ir->E\n",
    "W[N_e:N_e+N_ir-1, N_e:N_e+N_ir-1] *= 0.008  ; Ir->Ir\n",
    "W[N_e+N_ir:*, N_e:N_e+N_ir-1] *= 0.008      ; Ir->If\n",
    "\n",
    "W[0:N_e-1, N_e+N_ir:*] *= 0.019*(1. - gaba)        ; If->E\n",
    "W[N_e:N_e+N_ir-1, N_e+N_ir:*] *= 0.01*(1. - gaba)  ; If->Ir\n",
    "W[N_e+N_ir:*, N_e+N_ir:*] *= 0.01*(1. - gaba)      ; If->If\n",
    "\n",
    "if keyword_set(W_scl) then begin\n",
    "W *= W_scl\n",
    "print, 'global weight scaling = ', W_scl\n",
    "endif else $\n",
    "W *= 0.0825  ; global weight scaling\n",
    "\n",
    "W_noise = fltarr(N_all) + noise_wt   ; external noise input weights"
   ]
  },
  {
   "cell_type": "code",
   "execution_count": 10,
   "metadata": {},
   "outputs": [
    {
     "name": "stdout",
     "output_type": "stream",
     "text": [
      "Initial # weights:       219150.\r\n",
      "        # excitatory weights:       128000.\r\n",
      "        # inhibitory weights:       91150.0\r\n",
      "        # E->E weights:       64000.0\r\n"
     ]
    }
   ],
   "source": [
    "print, 'Initial # weights: ', total(W NE 0.)\n",
    "print, '        # excitatory weights: ', total(W GT 0.)\n",
    "print, '        # inhibitory weights: ', total(W LT 0.)\n",
    "print, '        # E->E weights: ', total(W[0:N_e-1,0:N_e-1] GT 0.)"
   ]
  },
  {
   "cell_type": "raw",
   "metadata": {},
   "source": [
    "print, '       con_t = ', con_t\n",
    "weight_ix = where(W[*] NE 0., n_weights)\n",
    "W2 = W[weight_ix]   ; nonzero connections\n",
    "del_n = con_t*n_weights\n",
    "\n",
    "ok=0\n",
    "while (not(ok)) do begin\n",
    "    a=randomu(seed2,n_weights,/long)  &  ix=uniq(a,sort(a))\n",
    "    if (n_elements(ix) EQ n_weights) then  ok=1\n",
    "endwhile\n",
    "delete_ix = ix[0:del_n-1]\n",
    "W2[delete_ix] = 0.\n",
    "W[weight_ix] = W2\n",
    "\n",
    "n_weights_rem = total(W NE 0.)\n",
    "print, '       # remaining weights = ', n_weights_rem,'  ', float(n_weights_rem)/n_weights"
   ]
  },
  {
   "cell_type": "raw",
   "metadata": {},
   "source": [
    "print, '       con_p = ', con_p\n",
    "W_p = W[0:N_e-1,*]\n",
    "weight_ix = where(W_p[*] NE 0., n_weights)\n",
    "W2 = W_p[weight_ix]\n",
    "del_n = con_p*n_weights\n",
    "\n",
    "ok=0\n",
    "while (not(ok)) do begin\n",
    "    a=randomu(seed2,n_weights,/long)  &  ix=uniq(a,sort(a))\n",
    "    if (n_elements(ix) EQ n_weights) then  ok=1\n",
    "endwhile\n",
    "delete_ix = ix[0:del_n-1]\n",
    "W2[delete_ix] = 0.\n",
    "W_p[weight_ix] = W2\n",
    "W[0:N_e-1,*] = W_p\n",
    "\n",
    "n_weights_rem = total(W NE 0.)\n",
    "print, '       # remaining weights = ', n_weights_rem,'  ', float(n_weights_rem)/n_weights"
   ]
  },
  {
   "cell_type": "code",
   "execution_count": null,
   "metadata": {},
   "outputs": [],
   "source": [
    "openw, fu, single_path + str + '_param.txt', /get_lun\n",
    "printf, fu, N_all, N_e, N_ir, N_if, dt, inv_dt, update, t_init, t_pre, t_stim, t_post, t_all\n",
    "free_lun, fu\n",
    "openw, fu, single_path + str + '_weights.dat', /get_lun\n",
    "writeu, fu, W, W_noise\n",
    "free_lun, fu"
   ]
  }
 ],
 "metadata": {
  "kernelspec": {
   "display_name": "GDL",
   "language": "GDL",
   "name": "gdl"
  },
  "language_info": {
   "codemirror_mode": "idl",
   "file_extension": ".pro",
   "mimetype": "text/x-idl",
   "name": "gdl"
  }
 },
 "nbformat": 4,
 "nbformat_minor": 4
}
