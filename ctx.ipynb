{
 "cells": [
  {
   "cell_type": "code",
   "execution_count": 2,
   "metadata": {},
   "outputs": [
    {
     "name": "stdout",
     "output_type": "stream",
     "text": []
    }
   ],
   "source": [
    ";from setup.txt\n",
    "\n",
    "single_path = './'\n",
    "; net_params\n",
    "dt = 0.001  ; in ms\n",
    "inv_dt = long(1000)\n",
    "update = inv_dt\n",
    "\n",
    "N_e  = long(80*10)\n",
    "N_ir = long(15*10)\n",
    "N_if = long(5*10)\n",
    "N_all = N_e + N_ir + N_if\n",
    "\n",
    "\n",
    "t_init=500*inv_dt  &  t_pre=0*inv_dt  &  t_stim=500*inv_dt  &  t_post=100*inv_dt\n",
    "t_all = t_init + t_pre + t_stim + t_post"
   ]
  },
  {
   "cell_type": "code",
   "execution_count": 3,
   "metadata": {},
   "outputs": [
    {
     "name": "stdout",
     "output_type": "stream",
     "text": []
    }
   ],
   "source": [
    ";from c_sims.txt\n",
    "rseed = 'v01'\n",
    ";rseed = 'v03'\n",
    "con_t = 0.\n",
    "con_r = 0.\n",
    "con_p = 0."
   ]
  },
  {
   "cell_type": "code",
   "execution_count": 4,
   "metadata": {},
   "outputs": [
    {
     "name": "stdout",
     "output_type": "stream",
     "text": []
    }
   ],
   "source": [
    "str = 'test'"
   ]
  },
  {
   "cell_type": "code",
   "execution_count": 5,
   "metadata": {},
   "outputs": [
    {
     "name": "stdout",
     "output_type": "stream",
     "text": [
      "           0           0           0           0           0           0\r\n",
      "           0           0           0           0           0           0\r\n",
      "           0           0           0           0           0           0\r\n",
      "           0           0           0           0           0           0\r\n",
      "           0           0           0           0           0           0\r\n",
      "           0           0           0           0           0           0\r\n"
     ]
    }
   ],
   "source": [
    "; Get seed for random number generator\n",
    "if keyword_set(rseed) then begin\n",
    "  if (size(rseed,/type) EQ 7) then begin  seed=rseed\n",
    "    seed = lonarr(36)\n",
    ";    openr, fu, single_path + rseed + '_rand.dat', /get_lun\n",
    ";    readu, fu, seed  &  free_lun, fu\n",
    "  endif  else  seed=long(rseed)\n",
    "endif else  dum=randomu(seed,1)\n",
    "\n",
    "print, seed"
   ]
  },
  {
   "cell_type": "code",
   "execution_count": 10,
   "metadata": {},
   "outputs": [
    {
     "name": "stdout",
     "output_type": "stream",
     "text": []
    }
   ],
   "source": [
    "if not(keyword_set(nmda_e)) then  nmda_e=0. $\n",
    "else  print, 'ctx: nmda_e=', nmda_e\n",
    "if not(keyword_set(nmda_rs)) then  nmda_rs=0. $\n",
    "else  print, 'ctx: nmda_rs=', nmda_rs\n",
    "if not(keyword_set(nmda_fs)) then  nmda_fs=0. $\n",
    "else  print, 'ctx: nmda_fs=', nmda_fs\n",
    "nmda_scl = $\n",
    "[fltarr(N_e)+(0.45*(1. - nmda_e)), fltarr(N_ir)+(0.1*(1. - nmda_rs)), fltarr(N_if)+(0.1*(1. - nmda_fs))]\n",
    "\n",
    "gaba=0\n",
    "con_t=0\n",
    "con_p=0\n",
    "con_r=0\n",
    "con_if=0\n",
    "con_ir=0\n",
    "con_i_all=0\n",
    "i_del=0\n",
    "noise_wt=0\n",
    "W_scl=0\n",
    "decay_gaba=5."
   ]
  },
  {
   "cell_type": "code",
   "execution_count": 17,
   "metadata": {},
   "outputs": [
    {
     "name": "stdout",
     "output_type": "stream",
     "text": []
    }
   ],
   "source": [
    "openr, fu, single_path + str + '_weights.dat', /get_lun\n",
    "readu, fu, W  &  free_lun, fu"
   ]
  },
  {
   "cell_type": "code",
   "execution_count": 19,
   "metadata": {},
   "outputs": [
    {
     "name": "stdout",
     "output_type": "stream",
     "text": []
    }
   ],
   "source": [
    "W = fltarr(N_all, N_all) + W\n",
    ";W_noise = "
   ]
  },
  {
   "cell_type": "code",
   "execution_count": 20,
   "metadata": {},
   "outputs": [
    {
     "name": "stdout",
     "output_type": "stream",
     "text": [
      "# weights:       219150.\r\n",
      "# excitatory weights:       128000.\r\n",
      "# inhibitory weights:       91150.0\r\n",
      "# E->E weights:       64000.0\r\n"
     ]
    }
   ],
   "source": [
    "print, '# weights: ', total(W NE 0.)\n",
    "print, '# excitatory weights: ', total(W GT 0.)\n",
    "print, '# inhibitory weights: ', total(W LT 0.)\n",
    "print, '# E->E weights: ', total(W[0:N_e-1,0:N_e-1] GT 0.)"
   ]
  },
  {
   "cell_type": "code",
   "execution_count": null,
   "metadata": {},
   "outputs": [],
   "source": []
  }
 ],
 "metadata": {
  "kernelspec": {
   "display_name": "GDL",
   "language": "GDL",
   "name": "gdl"
  },
  "language_info": {
   "codemirror_mode": "idl",
   "file_extension": ".pro",
   "mimetype": "text/x-idl",
   "name": "gdl"
  }
 },
 "nbformat": 4,
 "nbformat_minor": 4
}
